{
 "cells": [
  {
   "cell_type": "markdown",
   "metadata": {},
   "source": [
    "EJERCICIO 1"
   ]
  },
  {
   "cell_type": "code",
   "execution_count": 23,
   "metadata": {},
   "outputs": [
    {
     "name": "stdout",
     "output_type": "stream",
     "text": [
      "El Planeta numero 1 es Mercurio\n",
      "El Planeta numero 2 es Venus\n",
      "El Planeta numero 3 es Tierra\n",
      "El Planeta numero 4 es Marte\n",
      "El Planeta numero 5 es Jupiter\n",
      "El Planeta numero 6 es Saturno\n",
      "El Planeta numero 7 es Urano\n",
      "El Planeta numero 8 es Neptuno\n",
      "El ultimo planeta es Plunton\n"
     ]
    }
   ],
   "source": [
    "Planetas = [\"Mercurio\",\"Venus\",\"Tierra\",\"Marte\",\"Jupiter\",\"Saturno\",\"Urano\",\"Neptuno\"]\n",
    "cont = 0\n",
    "for n in Planetas:\n",
    "    cont= cont +1\n",
    "    print(\"El Planeta numero \" + str(cont) + \" es \" + n)\n",
    "\n",
    "Planetas.append(\"Plunton\")\n",
    "print(\"El ultimo planeta es \" + Planetas[-1])\n",
    "\n"
   ]
  },
  {
   "cell_type": "markdown",
   "metadata": {},
   "source": [
    "EJERCICIO 2"
   ]
  },
  {
   "cell_type": "code",
   "execution_count": 33,
   "metadata": {},
   "outputs": [
    {
     "name": "stdout",
     "output_type": "stream",
     "text": [
      "El planeta Albert es el planeta numero 9  lejos del sol\n",
      "El planeta mas cercano al sol es  Mercurio\n",
      "El planeta mas alejado del sol es  Albert\n"
     ]
    }
   ],
   "source": [
    "Planetas = [\"Mercurio\",\"Venus\",\"Tierra\",\"Marte\",\"Jupiter\",\"Saturno\",\"Urano\",\"Neptuno\"]\n",
    "\n",
    "Planetas.append(input(\"Ingresa el nombre del nuevo planeta ... no olvidar las mayusculas\"))\n",
    "cont = 0\n",
    "\n",
    "buscar = input(\"Ingresa el nombre del planeta a encontra... (NO OLVIDAR LAS MAYUSCULAS!!!)\")\n",
    "index_planetario = Planetas.index(buscar)\n",
    "print('El planeta ' + buscar + \" es el planeta numero\", index_planetario + 1, ' lejos del sol')\n",
    "\n",
    "\n",
    "print(\"El planeta mas cercano al sol es \", Planetas[0])\n",
    "\n",
    "print(\"El planeta mas alejado del sol es \", Planetas[-1])"
   ]
  }
 ],
 "metadata": {
  "interpreter": {
   "hash": "0d6e235ce5e4fcdcc218a3b04d50ab7f09947fd35a66bcef32e3c6c490f32ce1"
  },
  "kernelspec": {
   "display_name": "Python 3.10.0 64-bit",
   "language": "python",
   "name": "python3"
  },
  "language_info": {
   "codemirror_mode": {
    "name": "ipython",
    "version": 3
   },
   "file_extension": ".py",
   "mimetype": "text/x-python",
   "name": "python",
   "nbconvert_exporter": "python",
   "pygments_lexer": "ipython3",
   "version": "3.10.0"
  },
  "orig_nbformat": 4
 },
 "nbformat": 4,
 "nbformat_minor": 2
}
