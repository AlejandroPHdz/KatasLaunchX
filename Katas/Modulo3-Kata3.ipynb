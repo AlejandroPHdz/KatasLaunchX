{
 "cells": [
  {
   "cell_type": "markdown",
   "metadata": {},
   "source": [
    "Modulo 3\n",
    "Kata 3"
   ]
  },
  {
   "cell_type": "markdown",
   "metadata": {},
   "source": [
    "ASTEROIDE"
   ]
  },
  {
   "cell_type": "code",
   "execution_count": 7,
   "metadata": {},
   "outputs": [
    {
     "name": "stdout",
     "output_type": "stream",
     "text": [
      "asteroide acercandose a la tierra a una velocidad de 49km/s\n"
     ]
    }
   ],
   "source": [
    "ast = 49\n",
    "medicion = 25\n",
    "if ast >= medicion:\n",
    "    print(\"asteroide acercandose a la tierra a una velocidad de \" + str(ast) + \"km/s\")\n",
    "else:\n",
    "    print(\"no hay problema con el asteroide\")\n"
   ]
  },
  {
   "cell_type": "markdown",
   "metadata": {},
   "source": [
    "ASTEROIDE 2"
   ]
  },
  {
   "cell_type": "code",
   "execution_count": 10,
   "metadata": {},
   "outputs": [
    {
     "name": "stdout",
     "output_type": "stream",
     "text": [
      "nada que ver\n"
     ]
    }
   ],
   "source": [
    "ast = 19\n",
    "medicion = 20\n",
    "if ast > medicion:\n",
    "    print(\"El asteroide esta proyectando un halo de luz\")\n",
    "elif ast == medicion:\n",
    "    print(\"El asteroide esta proyectando un halo de luz\")\n",
    "else:\n",
    "    print(\"nada que ver\")   "
   ]
  },
  {
   "cell_type": "markdown",
   "metadata": {},
   "source": [
    "PROBLEMA 3"
   ]
  },
  {
   "cell_type": "code",
   "execution_count": 19,
   "metadata": {},
   "outputs": [
    {
     "name": "stdout",
     "output_type": "stream",
     "text": [
      "Asteroide muy peligroso se aproxima tamaño 55km y velocidad 30\n"
     ]
    }
   ],
   "source": [
    "tamamo = 55\n",
    "vel = 30\n",
    "\n",
    "if tamamo > 1000:\n",
    "    print(\"Exticion total del mundo!!!\")\n",
    "elif tamamo >= 25 and vel >= 25:\n",
    "    print (\"Asteroide muy peligroso se aproxima\" \" tamaño \" + str(tamamo) + \"km y velocidad \" + str(vel))\n",
    "elif vel >=20:\n",
    "    print(\"El asteroide esta proyectando un halo de luz\")\n",
    "elif tamamo <25:\n",
    "    print(\"nada que ver\")\n",
    "else:\n",
    "    print(\"no hay nada\")\n",
    "    \n"
   ]
  }
 ],
 "metadata": {
  "interpreter": {
   "hash": "0d6e235ce5e4fcdcc218a3b04d50ab7f09947fd35a66bcef32e3c6c490f32ce1"
  },
  "kernelspec": {
   "display_name": "Python 3.10.0 64-bit",
   "language": "python",
   "name": "python3"
  },
  "language_info": {
   "codemirror_mode": {
    "name": "ipython",
    "version": 3
   },
   "file_extension": ".py",
   "mimetype": "text/x-python",
   "name": "python",
   "nbconvert_exporter": "python",
   "pygments_lexer": "ipython3",
   "version": "3.10.0"
  },
  "orig_nbformat": 4
 },
 "nbformat": 4,
 "nbformat_minor": 2
}
