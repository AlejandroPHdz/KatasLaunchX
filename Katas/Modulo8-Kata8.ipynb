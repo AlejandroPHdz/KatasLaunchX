{
 "cells": [
  {
   "cell_type": "markdown",
   "metadata": {},
   "source": [
    "EJERCICIO 1"
   ]
  },
  {
   "cell_type": "code",
   "execution_count": 17,
   "metadata": {},
   "outputs": [
    {
     "name": "stdout",
     "output_type": "stream",
     "text": [
      "Marte\n",
      "2 Lunas\n",
      "El planeta es  Marte con la circuferencia polar de 6752 KM\n"
     ]
    }
   ],
   "source": [
    "planeta = {\n",
    "    'nombre':\"Marte\",\n",
    "    'lunas': 2\n",
    "}\n",
    "\n",
    "print(planeta.get('nombre'))\n",
    "print(planeta.get(\"lunas\") , \"Lunas\")\n",
    "\n",
    "\n",
    "\n",
    "planeta['circuferencia'] = {\n",
    "    'polar' : 6752,\n",
    "    'ecuador' : 6792\n",
    "\n",
    "}\n",
    "\n",
    "print(\"El planeta es \", planeta.get(\"nombre\"),\"con la circuferencia polar de\", planeta['circuferencia']['polar'],\"KM\")\n",
    "\n",
    "\n",
    "\n"
   ]
  },
  {
   "cell_type": "markdown",
   "metadata": {},
   "source": [
    "EJERCICIO 2"
   ]
  },
  {
   "cell_type": "code",
   "execution_count": 33,
   "metadata": {},
   "outputs": [
    {
     "name": "stdout",
     "output_type": "stream",
     "text": [
      "el total de lunas entre todos los planetas es 214\n",
      "el numero de planetas total es 12\n",
      "el promedio de lunas es 17.833333333333332\n"
     ]
    }
   ],
   "source": [
    "planet_moons = {\n",
    "    'mercury': 0,\n",
    "    'venus': 0,\n",
    "    'earth': 1,\n",
    "    'mars': 2,\n",
    "    'jupiter': 79,\n",
    "    'saturn': 82,\n",
    "    'uranus': 27,\n",
    "    'neptune': 14,\n",
    "    'pluto': 5,\n",
    "    'haumea': 2,\n",
    "    'makemake': 1,\n",
    "    'eris': 1\n",
    "}\n",
    "planetas = 0\n",
    "total = 0\n",
    "for lunas in planet_moons.keys():\n",
    "   lunas = f'{planet_moons[lunas]}'\n",
    "   total = int(lunas) + total\n",
    "   planetas = planetas +1\n",
    "\n",
    "print(\"el total de lunas entre todos los planetas es\", total)\n",
    "print(\"el numero de planetas total es\" , planetas)\n",
    "\n",
    "print(\"el promedio de lunas es\" , total/planetas)"
   ]
  },
  {
   "cell_type": "code",
   "execution_count": null,
   "metadata": {},
   "outputs": [],
   "source": []
  }
 ],
 "metadata": {
  "interpreter": {
   "hash": "0d6e235ce5e4fcdcc218a3b04d50ab7f09947fd35a66bcef32e3c6c490f32ce1"
  },
  "kernelspec": {
   "display_name": "Python 3.10.0 64-bit",
   "language": "python",
   "name": "python3"
  },
  "language_info": {
   "codemirror_mode": {
    "name": "ipython",
    "version": 3
   },
   "file_extension": ".py",
   "mimetype": "text/x-python",
   "name": "python",
   "nbconvert_exporter": "python",
   "pygments_lexer": "ipython3",
   "version": "3.10.0"
  },
  "orig_nbformat": 4
 },
 "nbformat": 4,
 "nbformat_minor": 2
}
