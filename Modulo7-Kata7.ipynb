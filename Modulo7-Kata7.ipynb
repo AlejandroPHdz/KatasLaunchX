{
 "cells": [
  {
   "cell_type": "markdown",
   "metadata": {},
   "source": [
    "EJERCICIO 1"
   ]
  },
  {
   "cell_type": "code",
   "execution_count": 5,
   "metadata": {},
   "outputs": [
    {
     "name": "stdout",
     "output_type": "stream",
     "text": [
      "El Planeta numero 1 es bezea\n",
      "El Planeta numero 2 es impunes\n",
      "El Planeta numero 3 es isusko\n",
      "El Planeta numero 4 es control\n",
      "El Planeta numero 5 es sumi\n",
      "El Planeta numero 6 es raiden\n",
      "El Planeta numero 7 es tameemon\n"
     ]
    }
   ],
   "source": [
    "Planeta = []\n",
    "\n",
    "NPlaneta = input(\"ingresa el nombre del planeta...(No olvides la mayuscula)\")\n",
    "\n",
    "while NPlaneta.lower() != 'listo':\n",
    "    Planeta.append(NPlaneta)\n",
    "    NPlaneta = input('Ingresa un nuevo Planeta o escribe \"Listo\" para finalizar')\n",
    "\n",
    "\n",
    "\n",
    "#Ejercicio 2\n",
    "cont = 0\n",
    "for n in Planeta:\n",
    "    cont= cont +1\n",
    "    print(\"El Planeta numero \" + str(cont) + \" es \" + n)"
   ]
  },
  {
   "cell_type": "code",
   "execution_count": null,
   "metadata": {},
   "outputs": [],
   "source": []
  }
 ],
 "metadata": {
  "interpreter": {
   "hash": "0d6e235ce5e4fcdcc218a3b04d50ab7f09947fd35a66bcef32e3c6c490f32ce1"
  },
  "kernelspec": {
   "display_name": "Python 3.10.0 64-bit",
   "language": "python",
   "name": "python3"
  },
  "language_info": {
   "codemirror_mode": {
    "name": "ipython",
    "version": 3
   },
   "file_extension": ".py",
   "mimetype": "text/x-python",
   "name": "python",
   "nbconvert_exporter": "python",
   "pygments_lexer": "ipython3",
   "version": "3.10.0"
  },
  "orig_nbformat": 4
 },
 "nbformat": 4,
 "nbformat_minor": 2
}
