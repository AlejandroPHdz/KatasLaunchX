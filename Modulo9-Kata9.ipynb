{
 "cells": [
  {
   "cell_type": "markdown",
   "metadata": {},
   "source": [
    "EJERCICIO 1"
   ]
  },
  {
   "cell_type": "code",
   "execution_count": 30,
   "metadata": {},
   "outputs": [
    {
     "name": "stdout",
     "output_type": "stream",
     "text": [
      "\n",
      "    Promedio del combustible: 40.0%\n",
      "    Tanque 1: 10%\n",
      "    Tanque 2: 15%\n",
      "    Tanque 3: 95% \n",
      "    \n",
      "\n",
      "    Promedio del combustible: 55.0%\n",
      "    Tanque 1: 25%\n",
      "    Tanque 2: 55%\n",
      "    Tanque 3: 85% \n",
      "    \n"
     ]
    }
   ],
   "source": [
    "def informe(tan1,tan2,tan3):\n",
    "    elemento = ((tan1+tan2+tan3)/3)\n",
    "    return f\"\"\"\n",
    "    Promedio del combustible: {elemento}%\n",
    "    Tanque 1: {tan1}%\n",
    "    Tanque 2: {tan2}%\n",
    "    Tanque 3: {tan3}% \n",
    "    \"\"\"\n",
    "\n",
    "t1 = 10\n",
    "t2 = 15\n",
    "t3 = 95\n",
    "print (informe(t1,t2,t3))\n",
    "\n",
    "def promedio(t1,t2,t3):\n",
    "    prom = ((t1+t2+t3)/3)\n",
    "    return prom\n",
    "\n",
    "def informefinal(tan1,tan2,tan3):\n",
    "    elemento = promedio(tan1,tan2,tan3)\n",
    "    return f\"\"\"\n",
    "    Promedio del combustible: {elemento}%\n",
    "    Tanque 1: {tan1}%\n",
    "    Tanque 2: {tan2}%\n",
    "    Tanque 3: {tan3}% \n",
    "    \"\"\"\n",
    "    \n",
    "\n",
    "tanque1 = 25\n",
    "tanque2 = 55\n",
    "tanque3 = 85\n",
    "\n",
    "print (informefinal(tanque1,tanque2,tanque3))\n",
    "\n",
    "\n",
    "\n"
   ]
  },
  {
   "cell_type": "markdown",
   "metadata": {},
   "source": [
    "EJERCICIO 2"
   ]
  },
  {
   "cell_type": "code",
   "execution_count": 49,
   "metadata": {},
   "outputs": [
    {
     "name": "stdout",
     "output_type": "stream",
     "text": [
      "\n",
      "    Hora de Prelanzamiento: 15 horas\n",
      "    Tiempo de Vuelo: 5 horas\n",
      "    El destino es: jupiter\n",
      "    Tanque Externo: 59%\n",
      "    Tanque Interno: 84%\n",
      "    \n",
      "\n",
      "    Hora de Prelanzamiento: 15 horas\n",
      "    El destino es: Andromeda\n",
      "    Tiempo de Vuelo: 158 horas\n",
      "    Cantidad de combustible hasta su llegada: 200\n",
      "    \n",
      "\n",
      "    Hora de Prelanzamiento: 15 horas\n",
      "    El destino es: Marte\n",
      "    Tiempo de Vuelo: 35 horas\n",
      "    Tanque main con 20%\n",
      "Tanque externo con 10%\n",
      "Tanque reserva con 50%\n",
      "\n"
     ]
    }
   ],
   "source": [
    "def informe(prelan,timvue,destino,tanE,tanI):\n",
    "    return f\"\"\"\n",
    "    Hora de Prelanzamiento: {prelan} horas\n",
    "    Tiempo de Vuelo: {timvue} horas\n",
    "    El destino es: {destino}\n",
    "    Tanque Externo: {tanE}%\n",
    "    Tanque Interno: {tanI}%\n",
    "    \"\"\"\n",
    "\n",
    "print (informe(15,5,\"jupiter\",59,84))\n",
    "\n",
    "#Segunda parte\n",
    "\n",
    "def info(destino,*minutes,**fuel_reservoirs):\n",
    "    return f\"\"\"\n",
    "    Hora de Prelanzamiento: {minutes[0]} horas\n",
    "    El destino es: {destino}\n",
    "    Tiempo de Vuelo: {sum(minutes)} horas\n",
    "    Cantidad de combustible hasta su llegada: {sum(fuel_reservoirs.values())}\n",
    "    \"\"\"\n",
    "print(info(\"Andromeda\",15,20,30,41,52,main= 40, externo=60, reserva = 100))\n",
    "\n",
    "\n",
    "\n",
    "\n",
    "# Escribe tu nueva función\n",
    "\n",
    "def informix(destino,*horas,**reserva_mana):\n",
    "    Tanques = f\"\"\"\n",
    "    Hora de Prelanzamiento: {horas[0]} horas\n",
    "    El destino es: {destino}\n",
    "    Tiempo de Vuelo: {sum(horas)} horas\n",
    "    \"\"\"\n",
    "    for n, comb in reserva_mana.items():\n",
    "        Tanques += f\"Tanque {n} con {comb}%\\n\"\n",
    "    return Tanques\n",
    "\n",
    "\n",
    "\n",
    "print(informix(\"Marte\",15,20,main= 20, externo=10, reserva = 50))\n",
    "\n",
    "\n",
    "\n"
   ]
  }
 ],
 "metadata": {
  "interpreter": {
   "hash": "0d6e235ce5e4fcdcc218a3b04d50ab7f09947fd35a66bcef32e3c6c490f32ce1"
  },
  "kernelspec": {
   "display_name": "Python 3.10.0 64-bit",
   "language": "python",
   "name": "python3"
  },
  "language_info": {
   "codemirror_mode": {
    "name": "ipython",
    "version": 3
   },
   "file_extension": ".py",
   "mimetype": "text/x-python",
   "name": "python",
   "nbconvert_exporter": "python",
   "pygments_lexer": "ipython3",
   "version": "3.10.0"
  },
  "orig_nbformat": 4
 },
 "nbformat": 4,
 "nbformat_minor": 2
}
