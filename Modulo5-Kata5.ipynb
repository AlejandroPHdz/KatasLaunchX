{
 "cells": [
  {
   "cell_type": "markdown",
   "metadata": {},
   "source": [
    "EJERCICIO 1"
   ]
  },
  {
   "cell_type": "code",
   "execution_count": 5,
   "metadata": {},
   "outputs": [
    {
     "name": "stdout",
     "output_type": "stream",
     "text": [
      "628949330 KM\n",
      "390577533.93 millas\n"
     ]
    }
   ],
   "source": [
    "jupyter = 778547200\n",
    "tierra = 149597870\n",
    "Distancia = jupyter - tierra\n",
    "print(str(Distancia) + \" KM\")\n",
    "\n",
    "millas = Distancia * 0.621\n",
    "print(str(millas) +\" millas\")"
   ]
  },
  {
   "cell_type": "markdown",
   "metadata": {},
   "source": [
    "EJERCICIO 2"
   ]
  },
  {
   "cell_type": "code",
   "execution_count": 10,
   "metadata": {},
   "outputs": [
    {
     "name": "stdout",
     "output_type": "stream",
     "text": [
      "629000000\n",
      "390609000.0\n"
     ]
    }
   ],
   "source": [
    "PlanetaX = input(\"Ingrese la distancia del planeta 1\")\n",
    "PlanetaY = input(\"Ingrese la distancia del planeta 2\")\n",
    "PlanetaY = int(PlanetaY)\n",
    "PlanetaX = int(PlanetaX)\n",
    "Distancia = abs(PlanetaX - PlanetaY)\n",
    "print(Distancia)\n",
    "\n",
    "millas = abs(Distancia * (0.621))\n",
    "print(millas)"
   ]
  }
 ],
 "metadata": {
  "interpreter": {
   "hash": "0d6e235ce5e4fcdcc218a3b04d50ab7f09947fd35a66bcef32e3c6c490f32ce1"
  },
  "kernelspec": {
   "display_name": "Python 3.10.0 64-bit",
   "language": "python",
   "name": "python3"
  },
  "language_info": {
   "codemirror_mode": {
    "name": "ipython",
    "version": 3
   },
   "file_extension": ".py",
   "mimetype": "text/x-python",
   "name": "python",
   "nbconvert_exporter": "python",
   "pygments_lexer": "ipython3",
   "version": "3.10.0"
  },
  "orig_nbformat": 4
 },
 "nbformat": 4,
 "nbformat_minor": 2
}
